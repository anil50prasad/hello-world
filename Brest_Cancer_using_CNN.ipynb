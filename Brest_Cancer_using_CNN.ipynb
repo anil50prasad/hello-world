{
  "nbformat": 4,
  "nbformat_minor": 0,
  "metadata": {
    "colab": {
      "name": "Brest_Cancer_using_CNN.ipynb",
      "provenance": [],
      "include_colab_link": true
    },
    "kernelspec": {
      "name": "python3",
      "display_name": "Python 3"
    },
    "accelerator": "TPU"
  },
  "cells": [
    {
      "cell_type": "markdown",
      "metadata": {
        "id": "view-in-github",
        "colab_type": "text"
      },
      "source": [
        "<a href=\"https://colab.research.google.com/github/anil50prasad/hello-world/blob/master/Brest_Cancer_using_CNN.ipynb\" target=\"_parent\"><img src=\"https://colab.research.google.com/assets/colab-badge.svg\" alt=\"Open In Colab\"/></a>"
      ]
    },
    {
      "cell_type": "code",
      "metadata": {
        "id": "EZ8Fxg7q8Alp",
        "colab_type": "code",
        "colab": {
          "base_uri": "https://localhost:8080/",
          "height": 374
        },
        "outputId": "81bea1ae-f7f3-464a-cd25-807a1179d275"
      },
      "source": [
        "!pip install tensorflow-gpu==2.0.0-rc0"
      ],
      "execution_count": 1,
      "outputs": [
        {
          "output_type": "stream",
          "text": [
            "Requirement already satisfied: tensorflow-gpu==2.0.0-rc0 in /usr/local/lib/python3.6/dist-packages (2.0.0rc0)\n",
            "Requirement already satisfied: grpcio>=1.8.6 in /usr/local/lib/python3.6/dist-packages (from tensorflow-gpu==2.0.0-rc0) (1.15.0)\n",
            "Requirement already satisfied: numpy<2.0,>=1.16.0 in /usr/local/lib/python3.6/dist-packages (from tensorflow-gpu==2.0.0-rc0) (1.17.4)\n",
            "Requirement already satisfied: keras-preprocessing>=1.0.5 in /usr/local/lib/python3.6/dist-packages (from tensorflow-gpu==2.0.0-rc0) (1.1.0)\n",
            "Requirement already satisfied: protobuf>=3.6.1 in /usr/local/lib/python3.6/dist-packages (from tensorflow-gpu==2.0.0-rc0) (3.10.0)\n",
            "Requirement already satisfied: gast>=0.2.0 in /usr/local/lib/python3.6/dist-packages (from tensorflow-gpu==2.0.0-rc0) (0.2.2)\n",
            "Requirement already satisfied: six>=1.10.0 in /usr/local/lib/python3.6/dist-packages (from tensorflow-gpu==2.0.0-rc0) (1.12.0)\n",
            "Requirement already satisfied: termcolor>=1.1.0 in /usr/local/lib/python3.6/dist-packages (from tensorflow-gpu==2.0.0-rc0) (1.1.0)\n",
            "Requirement already satisfied: tb-nightly<1.15.0a20190807,>=1.15.0a20190806 in /usr/local/lib/python3.6/dist-packages (from tensorflow-gpu==2.0.0-rc0) (1.15.0a20190806)\n",
            "Requirement already satisfied: wheel>=0.26 in /usr/local/lib/python3.6/dist-packages (from tensorflow-gpu==2.0.0-rc0) (0.33.6)\n",
            "Requirement already satisfied: tf-estimator-nightly<1.14.0.dev2019080602,>=1.14.0.dev2019080601 in /usr/local/lib/python3.6/dist-packages (from tensorflow-gpu==2.0.0-rc0) (1.14.0.dev2019080601)\n",
            "Requirement already satisfied: absl-py>=0.7.0 in /usr/local/lib/python3.6/dist-packages (from tensorflow-gpu==2.0.0-rc0) (0.8.1)\n",
            "Requirement already satisfied: wrapt>=1.11.1 in /usr/local/lib/python3.6/dist-packages (from tensorflow-gpu==2.0.0-rc0) (1.11.2)\n",
            "Requirement already satisfied: keras-applications>=1.0.8 in /usr/local/lib/python3.6/dist-packages (from tensorflow-gpu==2.0.0-rc0) (1.0.8)\n",
            "Requirement already satisfied: google-pasta>=0.1.6 in /usr/local/lib/python3.6/dist-packages (from tensorflow-gpu==2.0.0-rc0) (0.1.8)\n",
            "Requirement already satisfied: astor>=0.6.0 in /usr/local/lib/python3.6/dist-packages (from tensorflow-gpu==2.0.0-rc0) (0.8.0)\n",
            "Requirement already satisfied: opt-einsum>=2.3.2 in /usr/local/lib/python3.6/dist-packages (from tensorflow-gpu==2.0.0-rc0) (3.1.0)\n",
            "Requirement already satisfied: setuptools in /usr/local/lib/python3.6/dist-packages (from protobuf>=3.6.1->tensorflow-gpu==2.0.0-rc0) (41.4.0)\n",
            "Requirement already satisfied: markdown>=2.6.8 in /usr/local/lib/python3.6/dist-packages (from tb-nightly<1.15.0a20190807,>=1.15.0a20190806->tensorflow-gpu==2.0.0-rc0) (3.1.1)\n",
            "Requirement already satisfied: werkzeug>=0.11.15 in /usr/local/lib/python3.6/dist-packages (from tb-nightly<1.15.0a20190807,>=1.15.0a20190806->tensorflow-gpu==2.0.0-rc0) (0.16.0)\n",
            "Requirement already satisfied: h5py in /usr/local/lib/python3.6/dist-packages (from keras-applications>=1.0.8->tensorflow-gpu==2.0.0-rc0) (2.8.0)\n"
          ],
          "name": "stdout"
        }
      ]
    },
    {
      "cell_type": "code",
      "metadata": {
        "id": "OyPu8Lmd87Bq",
        "colab_type": "code",
        "colab": {}
      },
      "source": [
        ""
      ],
      "execution_count": 0,
      "outputs": []
    },
    {
      "cell_type": "code",
      "metadata": {
        "colab_type": "code",
        "outputId": "7e64f07b-8a44-49da-a32e-802d555c94b9",
        "id": "H5qVLKL18_bx",
        "colab": {
          "base_uri": "https://localhost:8080/",
          "height": 34
        }
      },
      "source": [
        "import tensorflow as tf\n",
        "from tensorflow import keras\n",
        "from tensorflow.keras import Sequential\n",
        "from tensorflow.keras.layers import Flatten, Dense, Dropout, BatchNormalization\n",
        "from tensorflow.keras.layers import Conv1D, MaxPool1D\n",
        "\n",
        "from tensorflow.keras.optimizers import Adam\n",
        "\n",
        "\n",
        "print(tf.__version__)"
      ],
      "execution_count": 2,
      "outputs": [
        {
          "output_type": "stream",
          "text": [
            "2.0.0-rc0\n"
          ],
          "name": "stdout"
        }
      ]
    },
    {
      "cell_type": "code",
      "metadata": {
        "id": "h4GJLYVy9b89",
        "colab_type": "code",
        "colab": {}
      },
      "source": [
        "\n",
        "import pandas as pd\n",
        "import numpy as np\n",
        "import  seaborn as sns\n",
        "import matplotlib.pyplot as plt"
      ],
      "execution_count": 0,
      "outputs": []
    },
    {
      "cell_type": "code",
      "metadata": {
        "id": "mtftoawi9cA0",
        "colab_type": "code",
        "colab": {}
      },
      "source": [
        "from sklearn import datasets, metrics\n",
        "from sklearn.model_selection import train_test_split\n",
        "from sklearn.preprocessing import StandardScaler"
      ],
      "execution_count": 0,
      "outputs": []
    },
    {
      "cell_type": "code",
      "metadata": {
        "id": "6nfvVgxL9cE1",
        "colab_type": "code",
        "colab": {}
      },
      "source": [
        "\n",
        "cancer = datasets.load_breast_cancer()"
      ],
      "execution_count": 0,
      "outputs": []
    },
    {
      "cell_type": "code",
      "metadata": {
        "id": "mxojD3cR9cHY",
        "colab_type": "code",
        "colab": {
          "base_uri": "https://localhost:8080/",
          "height": 1000
        },
        "outputId": "4b93ddfc-4b7f-43f1-ae6b-1b749f916831"
      },
      "source": [
        "print(cancer.DESCR)"
      ],
      "execution_count": 6,
      "outputs": [
        {
          "output_type": "stream",
          "text": [
            ".. _breast_cancer_dataset:\n",
            "\n",
            "Breast cancer wisconsin (diagnostic) dataset\n",
            "--------------------------------------------\n",
            "\n",
            "**Data Set Characteristics:**\n",
            "\n",
            "    :Number of Instances: 569\n",
            "\n",
            "    :Number of Attributes: 30 numeric, predictive attributes and the class\n",
            "\n",
            "    :Attribute Information:\n",
            "        - radius (mean of distances from center to points on the perimeter)\n",
            "        - texture (standard deviation of gray-scale values)\n",
            "        - perimeter\n",
            "        - area\n",
            "        - smoothness (local variation in radius lengths)\n",
            "        - compactness (perimeter^2 / area - 1.0)\n",
            "        - concavity (severity of concave portions of the contour)\n",
            "        - concave points (number of concave portions of the contour)\n",
            "        - symmetry \n",
            "        - fractal dimension (\"coastline approximation\" - 1)\n",
            "\n",
            "        The mean, standard error, and \"worst\" or largest (mean of the three\n",
            "        largest values) of these features were computed for each image,\n",
            "        resulting in 30 features.  For instance, field 3 is Mean Radius, field\n",
            "        13 is Radius SE, field 23 is Worst Radius.\n",
            "\n",
            "        - class:\n",
            "                - WDBC-Malignant\n",
            "                - WDBC-Benign\n",
            "\n",
            "    :Summary Statistics:\n",
            "\n",
            "    ===================================== ====== ======\n",
            "                                           Min    Max\n",
            "    ===================================== ====== ======\n",
            "    radius (mean):                        6.981  28.11\n",
            "    texture (mean):                       9.71   39.28\n",
            "    perimeter (mean):                     43.79  188.5\n",
            "    area (mean):                          143.5  2501.0\n",
            "    smoothness (mean):                    0.053  0.163\n",
            "    compactness (mean):                   0.019  0.345\n",
            "    concavity (mean):                     0.0    0.427\n",
            "    concave points (mean):                0.0    0.201\n",
            "    symmetry (mean):                      0.106  0.304\n",
            "    fractal dimension (mean):             0.05   0.097\n",
            "    radius (standard error):              0.112  2.873\n",
            "    texture (standard error):             0.36   4.885\n",
            "    perimeter (standard error):           0.757  21.98\n",
            "    area (standard error):                6.802  542.2\n",
            "    smoothness (standard error):          0.002  0.031\n",
            "    compactness (standard error):         0.002  0.135\n",
            "    concavity (standard error):           0.0    0.396\n",
            "    concave points (standard error):      0.0    0.053\n",
            "    symmetry (standard error):            0.008  0.079\n",
            "    fractal dimension (standard error):   0.001  0.03\n",
            "    radius (worst):                       7.93   36.04\n",
            "    texture (worst):                      12.02  49.54\n",
            "    perimeter (worst):                    50.41  251.2\n",
            "    area (worst):                         185.2  4254.0\n",
            "    smoothness (worst):                   0.071  0.223\n",
            "    compactness (worst):                  0.027  1.058\n",
            "    concavity (worst):                    0.0    1.252\n",
            "    concave points (worst):               0.0    0.291\n",
            "    symmetry (worst):                     0.156  0.664\n",
            "    fractal dimension (worst):            0.055  0.208\n",
            "    ===================================== ====== ======\n",
            "\n",
            "    :Missing Attribute Values: None\n",
            "\n",
            "    :Class Distribution: 212 - Malignant, 357 - Benign\n",
            "\n",
            "    :Creator:  Dr. William H. Wolberg, W. Nick Street, Olvi L. Mangasarian\n",
            "\n",
            "    :Donor: Nick Street\n",
            "\n",
            "    :Date: November, 1995\n",
            "\n",
            "This is a copy of UCI ML Breast Cancer Wisconsin (Diagnostic) datasets.\n",
            "https://goo.gl/U2Uwz2\n",
            "\n",
            "Features are computed from a digitized image of a fine needle\n",
            "aspirate (FNA) of a breast mass.  They describe\n",
            "characteristics of the cell nuclei present in the image.\n",
            "\n",
            "Separating plane described above was obtained using\n",
            "Multisurface Method-Tree (MSM-T) [K. P. Bennett, \"Decision Tree\n",
            "Construction Via Linear Programming.\" Proceedings of the 4th\n",
            "Midwest Artificial Intelligence and Cognitive Science Society,\n",
            "pp. 97-101, 1992], a classification method which uses linear\n",
            "programming to construct a decision tree.  Relevant features\n",
            "were selected using an exhaustive search in the space of 1-4\n",
            "features and 1-3 separating planes.\n",
            "\n",
            "The actual linear program used to obtain the separating plane\n",
            "in the 3-dimensional space is that described in:\n",
            "[K. P. Bennett and O. L. Mangasarian: \"Robust Linear\n",
            "Programming Discrimination of Two Linearly Inseparable Sets\",\n",
            "Optimization Methods and Software 1, 1992, 23-34].\n",
            "\n",
            "This database is also available through the UW CS ftp server:\n",
            "\n",
            "ftp ftp.cs.wisc.edu\n",
            "cd math-prog/cpo-dataset/machine-learn/WDBC/\n",
            "\n",
            ".. topic:: References\n",
            "\n",
            "   - W.N. Street, W.H. Wolberg and O.L. Mangasarian. Nuclear feature extraction \n",
            "     for breast tumor diagnosis. IS&T/SPIE 1993 International Symposium on \n",
            "     Electronic Imaging: Science and Technology, volume 1905, pages 861-870,\n",
            "     San Jose, CA, 1993.\n",
            "   - O.L. Mangasarian, W.N. Street and W.H. Wolberg. Breast cancer diagnosis and \n",
            "     prognosis via linear programming. Operations Research, 43(4), pages 570-577, \n",
            "     July-August 1995.\n",
            "   - W.H. Wolberg, W.N. Street, and O.L. Mangasarian. Machine learning techniques\n",
            "     to diagnose breast cancer from fine-needle aspirates. Cancer Letters 77 (1994) \n",
            "     163-171.\n"
          ],
          "name": "stdout"
        }
      ]
    },
    {
      "cell_type": "code",
      "metadata": {
        "id": "sPDecD6J9cKM",
        "colab_type": "code",
        "colab": {
          "base_uri": "https://localhost:8080/",
          "height": 258
        },
        "outputId": "17fe96c8-4c2d-4a98-aff9-8d4d3ff81dc9"
      },
      "source": [
        "X = pd.DataFrame(data = cancer.data, columns=cancer.feature_names)\n",
        "X.head()"
      ],
      "execution_count": 7,
      "outputs": [
        {
          "output_type": "execute_result",
          "data": {
            "text/html": [
              "<div>\n",
              "<style scoped>\n",
              "    .dataframe tbody tr th:only-of-type {\n",
              "        vertical-align: middle;\n",
              "    }\n",
              "\n",
              "    .dataframe tbody tr th {\n",
              "        vertical-align: top;\n",
              "    }\n",
              "\n",
              "    .dataframe thead th {\n",
              "        text-align: right;\n",
              "    }\n",
              "</style>\n",
              "<table border=\"1\" class=\"dataframe\">\n",
              "  <thead>\n",
              "    <tr style=\"text-align: right;\">\n",
              "      <th></th>\n",
              "      <th>mean radius</th>\n",
              "      <th>mean texture</th>\n",
              "      <th>mean perimeter</th>\n",
              "      <th>mean area</th>\n",
              "      <th>mean smoothness</th>\n",
              "      <th>mean compactness</th>\n",
              "      <th>mean concavity</th>\n",
              "      <th>mean concave points</th>\n",
              "      <th>mean symmetry</th>\n",
              "      <th>mean fractal dimension</th>\n",
              "      <th>radius error</th>\n",
              "      <th>texture error</th>\n",
              "      <th>perimeter error</th>\n",
              "      <th>area error</th>\n",
              "      <th>smoothness error</th>\n",
              "      <th>compactness error</th>\n",
              "      <th>concavity error</th>\n",
              "      <th>concave points error</th>\n",
              "      <th>symmetry error</th>\n",
              "      <th>fractal dimension error</th>\n",
              "      <th>worst radius</th>\n",
              "      <th>worst texture</th>\n",
              "      <th>worst perimeter</th>\n",
              "      <th>worst area</th>\n",
              "      <th>worst smoothness</th>\n",
              "      <th>worst compactness</th>\n",
              "      <th>worst concavity</th>\n",
              "      <th>worst concave points</th>\n",
              "      <th>worst symmetry</th>\n",
              "      <th>worst fractal dimension</th>\n",
              "    </tr>\n",
              "  </thead>\n",
              "  <tbody>\n",
              "    <tr>\n",
              "      <th>0</th>\n",
              "      <td>17.99</td>\n",
              "      <td>10.38</td>\n",
              "      <td>122.80</td>\n",
              "      <td>1001.0</td>\n",
              "      <td>0.11840</td>\n",
              "      <td>0.27760</td>\n",
              "      <td>0.3001</td>\n",
              "      <td>0.14710</td>\n",
              "      <td>0.2419</td>\n",
              "      <td>0.07871</td>\n",
              "      <td>1.0950</td>\n",
              "      <td>0.9053</td>\n",
              "      <td>8.589</td>\n",
              "      <td>153.40</td>\n",
              "      <td>0.006399</td>\n",
              "      <td>0.04904</td>\n",
              "      <td>0.05373</td>\n",
              "      <td>0.01587</td>\n",
              "      <td>0.03003</td>\n",
              "      <td>0.006193</td>\n",
              "      <td>25.38</td>\n",
              "      <td>17.33</td>\n",
              "      <td>184.60</td>\n",
              "      <td>2019.0</td>\n",
              "      <td>0.1622</td>\n",
              "      <td>0.6656</td>\n",
              "      <td>0.7119</td>\n",
              "      <td>0.2654</td>\n",
              "      <td>0.4601</td>\n",
              "      <td>0.11890</td>\n",
              "    </tr>\n",
              "    <tr>\n",
              "      <th>1</th>\n",
              "      <td>20.57</td>\n",
              "      <td>17.77</td>\n",
              "      <td>132.90</td>\n",
              "      <td>1326.0</td>\n",
              "      <td>0.08474</td>\n",
              "      <td>0.07864</td>\n",
              "      <td>0.0869</td>\n",
              "      <td>0.07017</td>\n",
              "      <td>0.1812</td>\n",
              "      <td>0.05667</td>\n",
              "      <td>0.5435</td>\n",
              "      <td>0.7339</td>\n",
              "      <td>3.398</td>\n",
              "      <td>74.08</td>\n",
              "      <td>0.005225</td>\n",
              "      <td>0.01308</td>\n",
              "      <td>0.01860</td>\n",
              "      <td>0.01340</td>\n",
              "      <td>0.01389</td>\n",
              "      <td>0.003532</td>\n",
              "      <td>24.99</td>\n",
              "      <td>23.41</td>\n",
              "      <td>158.80</td>\n",
              "      <td>1956.0</td>\n",
              "      <td>0.1238</td>\n",
              "      <td>0.1866</td>\n",
              "      <td>0.2416</td>\n",
              "      <td>0.1860</td>\n",
              "      <td>0.2750</td>\n",
              "      <td>0.08902</td>\n",
              "    </tr>\n",
              "    <tr>\n",
              "      <th>2</th>\n",
              "      <td>19.69</td>\n",
              "      <td>21.25</td>\n",
              "      <td>130.00</td>\n",
              "      <td>1203.0</td>\n",
              "      <td>0.10960</td>\n",
              "      <td>0.15990</td>\n",
              "      <td>0.1974</td>\n",
              "      <td>0.12790</td>\n",
              "      <td>0.2069</td>\n",
              "      <td>0.05999</td>\n",
              "      <td>0.7456</td>\n",
              "      <td>0.7869</td>\n",
              "      <td>4.585</td>\n",
              "      <td>94.03</td>\n",
              "      <td>0.006150</td>\n",
              "      <td>0.04006</td>\n",
              "      <td>0.03832</td>\n",
              "      <td>0.02058</td>\n",
              "      <td>0.02250</td>\n",
              "      <td>0.004571</td>\n",
              "      <td>23.57</td>\n",
              "      <td>25.53</td>\n",
              "      <td>152.50</td>\n",
              "      <td>1709.0</td>\n",
              "      <td>0.1444</td>\n",
              "      <td>0.4245</td>\n",
              "      <td>0.4504</td>\n",
              "      <td>0.2430</td>\n",
              "      <td>0.3613</td>\n",
              "      <td>0.08758</td>\n",
              "    </tr>\n",
              "    <tr>\n",
              "      <th>3</th>\n",
              "      <td>11.42</td>\n",
              "      <td>20.38</td>\n",
              "      <td>77.58</td>\n",
              "      <td>386.1</td>\n",
              "      <td>0.14250</td>\n",
              "      <td>0.28390</td>\n",
              "      <td>0.2414</td>\n",
              "      <td>0.10520</td>\n",
              "      <td>0.2597</td>\n",
              "      <td>0.09744</td>\n",
              "      <td>0.4956</td>\n",
              "      <td>1.1560</td>\n",
              "      <td>3.445</td>\n",
              "      <td>27.23</td>\n",
              "      <td>0.009110</td>\n",
              "      <td>0.07458</td>\n",
              "      <td>0.05661</td>\n",
              "      <td>0.01867</td>\n",
              "      <td>0.05963</td>\n",
              "      <td>0.009208</td>\n",
              "      <td>14.91</td>\n",
              "      <td>26.50</td>\n",
              "      <td>98.87</td>\n",
              "      <td>567.7</td>\n",
              "      <td>0.2098</td>\n",
              "      <td>0.8663</td>\n",
              "      <td>0.6869</td>\n",
              "      <td>0.2575</td>\n",
              "      <td>0.6638</td>\n",
              "      <td>0.17300</td>\n",
              "    </tr>\n",
              "    <tr>\n",
              "      <th>4</th>\n",
              "      <td>20.29</td>\n",
              "      <td>14.34</td>\n",
              "      <td>135.10</td>\n",
              "      <td>1297.0</td>\n",
              "      <td>0.10030</td>\n",
              "      <td>0.13280</td>\n",
              "      <td>0.1980</td>\n",
              "      <td>0.10430</td>\n",
              "      <td>0.1809</td>\n",
              "      <td>0.05883</td>\n",
              "      <td>0.7572</td>\n",
              "      <td>0.7813</td>\n",
              "      <td>5.438</td>\n",
              "      <td>94.44</td>\n",
              "      <td>0.011490</td>\n",
              "      <td>0.02461</td>\n",
              "      <td>0.05688</td>\n",
              "      <td>0.01885</td>\n",
              "      <td>0.01756</td>\n",
              "      <td>0.005115</td>\n",
              "      <td>22.54</td>\n",
              "      <td>16.67</td>\n",
              "      <td>152.20</td>\n",
              "      <td>1575.0</td>\n",
              "      <td>0.1374</td>\n",
              "      <td>0.2050</td>\n",
              "      <td>0.4000</td>\n",
              "      <td>0.1625</td>\n",
              "      <td>0.2364</td>\n",
              "      <td>0.07678</td>\n",
              "    </tr>\n",
              "  </tbody>\n",
              "</table>\n",
              "</div>"
            ],
            "text/plain": [
              "   mean radius  mean texture  ...  worst symmetry  worst fractal dimension\n",
              "0        17.99         10.38  ...          0.4601                  0.11890\n",
              "1        20.57         17.77  ...          0.2750                  0.08902\n",
              "2        19.69         21.25  ...          0.3613                  0.08758\n",
              "3        11.42         20.38  ...          0.6638                  0.17300\n",
              "4        20.29         14.34  ...          0.2364                  0.07678\n",
              "\n",
              "[5 rows x 30 columns]"
            ]
          },
          "metadata": {
            "tags": []
          },
          "execution_count": 7
        }
      ]
    },
    {
      "cell_type": "code",
      "metadata": {
        "id": "-QvMPqFz9cMl",
        "colab_type": "code",
        "colab": {}
      },
      "source": [
        "y = cancer.target"
      ],
      "execution_count": 0,
      "outputs": []
    },
    {
      "cell_type": "code",
      "metadata": {
        "id": "IofElzP-9cOa",
        "colab_type": "code",
        "colab": {
          "base_uri": "https://localhost:8080/",
          "height": 459
        },
        "outputId": "a84a7703-7661-4140-fff9-b83cb89b7e37"
      },
      "source": [
        "y"
      ],
      "execution_count": 9,
      "outputs": [
        {
          "output_type": "execute_result",
          "data": {
            "text/plain": [
              "array([0, 0, 0, 0, 0, 0, 0, 0, 0, 0, 0, 0, 0, 0, 0, 0, 0, 0, 0, 1, 1, 1,\n",
              "       0, 0, 0, 0, 0, 0, 0, 0, 0, 0, 0, 0, 0, 0, 0, 1, 0, 0, 0, 0, 0, 0,\n",
              "       0, 0, 1, 0, 1, 1, 1, 1, 1, 0, 0, 1, 0, 0, 1, 1, 1, 1, 0, 1, 0, 0,\n",
              "       1, 1, 1, 1, 0, 1, 0, 0, 1, 0, 1, 0, 0, 1, 1, 1, 0, 0, 1, 0, 0, 0,\n",
              "       1, 1, 1, 0, 1, 1, 0, 0, 1, 1, 1, 0, 0, 1, 1, 1, 1, 0, 1, 1, 0, 1,\n",
              "       1, 1, 1, 1, 1, 1, 1, 0, 0, 0, 1, 0, 0, 1, 1, 1, 0, 0, 1, 0, 1, 0,\n",
              "       0, 1, 0, 0, 1, 1, 0, 1, 1, 0, 1, 1, 1, 1, 0, 1, 1, 1, 1, 1, 1, 1,\n",
              "       1, 1, 0, 1, 1, 1, 1, 0, 0, 1, 0, 1, 1, 0, 0, 1, 1, 0, 0, 1, 1, 1,\n",
              "       1, 0, 1, 1, 0, 0, 0, 1, 0, 1, 0, 1, 1, 1, 0, 1, 1, 0, 0, 1, 0, 0,\n",
              "       0, 0, 1, 0, 0, 0, 1, 0, 1, 0, 1, 1, 0, 1, 0, 0, 0, 0, 1, 1, 0, 0,\n",
              "       1, 1, 1, 0, 1, 1, 1, 1, 1, 0, 0, 1, 1, 0, 1, 1, 0, 0, 1, 0, 1, 1,\n",
              "       1, 1, 0, 1, 1, 1, 1, 1, 0, 1, 0, 0, 0, 0, 0, 0, 0, 0, 0, 0, 0, 0,\n",
              "       0, 0, 1, 1, 1, 1, 1, 1, 0, 1, 0, 1, 1, 0, 1, 1, 0, 1, 0, 0, 1, 1,\n",
              "       1, 1, 1, 1, 1, 1, 1, 1, 1, 1, 1, 0, 1, 1, 0, 1, 0, 1, 1, 1, 1, 1,\n",
              "       1, 1, 1, 1, 1, 1, 1, 1, 1, 0, 1, 1, 1, 0, 1, 0, 1, 1, 1, 1, 0, 0,\n",
              "       0, 1, 1, 1, 1, 0, 1, 0, 1, 0, 1, 1, 1, 0, 1, 1, 1, 1, 1, 1, 1, 0,\n",
              "       0, 0, 1, 1, 1, 1, 1, 1, 1, 1, 1, 1, 1, 0, 0, 1, 0, 0, 0, 1, 0, 0,\n",
              "       1, 1, 1, 1, 1, 0, 1, 1, 1, 1, 1, 0, 1, 1, 1, 0, 1, 1, 0, 0, 1, 1,\n",
              "       1, 1, 1, 1, 0, 1, 1, 1, 1, 1, 1, 1, 0, 1, 1, 1, 1, 1, 0, 1, 1, 0,\n",
              "       1, 1, 1, 1, 1, 1, 1, 1, 1, 1, 1, 1, 0, 1, 0, 0, 1, 0, 1, 1, 1, 1,\n",
              "       1, 0, 1, 1, 0, 1, 0, 1, 1, 0, 1, 0, 1, 1, 1, 1, 1, 1, 1, 1, 0, 0,\n",
              "       1, 1, 1, 1, 1, 1, 0, 1, 1, 1, 1, 1, 1, 1, 1, 1, 1, 0, 1, 1, 1, 1,\n",
              "       1, 1, 1, 0, 1, 0, 1, 1, 0, 1, 1, 1, 1, 1, 0, 0, 1, 0, 1, 0, 1, 1,\n",
              "       1, 1, 1, 0, 1, 1, 0, 1, 0, 1, 0, 0, 1, 1, 1, 0, 1, 1, 1, 1, 1, 1,\n",
              "       1, 1, 1, 1, 1, 0, 1, 0, 0, 1, 1, 1, 1, 1, 1, 1, 1, 1, 1, 1, 1, 1,\n",
              "       1, 1, 1, 1, 1, 1, 1, 1, 1, 1, 1, 1, 0, 0, 0, 0, 0, 0, 1])"
            ]
          },
          "metadata": {
            "tags": []
          },
          "execution_count": 9
        }
      ]
    },
    {
      "cell_type": "code",
      "metadata": {
        "id": "Pzolu8IS9cRE",
        "colab_type": "code",
        "colab": {
          "base_uri": "https://localhost:8080/",
          "height": 34
        },
        "outputId": "dd8ec720-aeb0-4936-d60f-4ddbbfce6c2d"
      },
      "source": [
        "cancer.target_names"
      ],
      "execution_count": 13,
      "outputs": [
        {
          "output_type": "execute_result",
          "data": {
            "text/plain": [
              "array(['malignant', 'benign'], dtype='<U9')"
            ]
          },
          "metadata": {
            "tags": []
          },
          "execution_count": 13
        }
      ]
    },
    {
      "cell_type": "code",
      "metadata": {
        "id": "gmXfecGL9cVU",
        "colab_type": "code",
        "colab": {
          "base_uri": "https://localhost:8080/",
          "height": 34
        },
        "outputId": "27b30a6c-4cd9-4af3-a60e-662779faa43e"
      },
      "source": [
        "\n",
        "X.shape"
      ],
      "execution_count": 14,
      "outputs": [
        {
          "output_type": "execute_result",
          "data": {
            "text/plain": [
              "(569, 30)"
            ]
          },
          "metadata": {
            "tags": []
          },
          "execution_count": 14
        }
      ]
    },
    {
      "cell_type": "code",
      "metadata": {
        "id": "KPdGQLQC9cX2",
        "colab_type": "code",
        "colab": {}
      },
      "source": [
        "X_train, X_test, y_train, y_test = train_test_split(X, y, test_size = 0.2, random_state = 0, stratify = y)"
      ],
      "execution_count": 0,
      "outputs": []
    },
    {
      "cell_type": "code",
      "metadata": {
        "id": "MYQzPRkd9cZ4",
        "colab_type": "code",
        "colab": {}
      },
      "source": [
        "\n",
        "X_train.shape"
      ],
      "execution_count": 0,
      "outputs": []
    },
    {
      "cell_type": "code",
      "metadata": {
        "id": "eqRrinmj9cen",
        "colab_type": "code",
        "colab": {}
      },
      "source": [
        "\n",
        "X_test.shape"
      ],
      "execution_count": 0,
      "outputs": []
    },
    {
      "cell_type": "code",
      "metadata": {
        "id": "frl60fN-9chL",
        "colab_type": "code",
        "colab": {}
      },
      "source": [
        "\n",
        "scaler = StandardScaler()\n",
        "X_train = scaler.fit_transform(X_train)\n",
        "X_test = scaler.transform(X_test)"
      ],
      "execution_count": 0,
      "outputs": []
    },
    {
      "cell_type": "code",
      "metadata": {
        "id": "_XAqcb-09cjk",
        "colab_type": "code",
        "colab": {}
      },
      "source": [
        "\n",
        "X_train = X_train.reshape(455,30,1)\n",
        "X_test = X_test.reshape(114, 30, 1)"
      ],
      "execution_count": 0,
      "outputs": []
    },
    {
      "cell_type": "code",
      "metadata": {
        "id": "dfnX0pQ29coM",
        "colab_type": "code",
        "colab": {}
      },
      "source": [
        "epochs = 50\n",
        "model = Sequential()\n",
        "model.add(Conv1D(filters=32, kernel_size=2, activation='relu', input_shape = (30,1)))\n",
        "model.add(BatchNormalization())\n",
        "model.add(Dropout(0.2))\n",
        "\n",
        "model.add(Conv1D(filters=64, kernel_size=2, activation='relu'))\n",
        "model.add(BatchNormalization())\n",
        "model.add(Dropout(0.5))\n",
        "\n",
        "model.add(Flatten())\n",
        "model.add(Dense(64, activation='relu'))\n",
        "model.add(Dropout(0.5))\n",
        "\n",
        "model.add(Dense(1, activation='sigmoid'))"
      ],
      "execution_count": 0,
      "outputs": []
    },
    {
      "cell_type": "code",
      "metadata": {
        "id": "hjSuHubh9cqk",
        "colab_type": "code",
        "colab": {}
      },
      "source": [
        "model.compile(optimizer=Adam(lr=0.00005), loss = 'binary_crossentropy', metrics=['accuracy'])"
      ],
      "execution_count": 0,
      "outputs": []
    },
    {
      "cell_type": "code",
      "metadata": {
        "id": "X5rtIcjP9cs6",
        "colab_type": "code",
        "colab": {
          "base_uri": "https://localhost:8080/",
          "height": 1000
        },
        "outputId": "deef649f-f315-45ba-b1eb-dbe3392c47d9"
      },
      "source": [
        "\n",
        "history = model.fit(X_train, y_train, epochs=epochs, validation_data=(X_test, y_test), verbose=1)"
      ],
      "execution_count": 20,
      "outputs": [
        {
          "output_type": "stream",
          "text": [
            "Train on 455 samples, validate on 114 samples\n",
            "Epoch 1/50\n",
            "WARNING:tensorflow:From /usr/local/lib/python3.6/dist-packages/tensorflow_core/python/ops/nn_impl.py:183: where (from tensorflow.python.ops.array_ops) is deprecated and will be removed in a future version.\n",
            "Instructions for updating:\n",
            "Use tf.where in 2.0, which has the same broadcast rule as np.where\n",
            "455/455 [==============================] - 2s 4ms/sample - loss: 1.1022 - accuracy: 0.5538 - val_loss: 0.6652 - val_accuracy: 0.7368\n",
            "Epoch 2/50\n",
            "455/455 [==============================] - 0s 420us/sample - loss: 0.6966 - accuracy: 0.7077 - val_loss: 0.6404 - val_accuracy: 0.8070\n",
            "Epoch 3/50\n",
            "455/455 [==============================] - 0s 413us/sample - loss: 0.5922 - accuracy: 0.7516 - val_loss: 0.6130 - val_accuracy: 0.8860\n",
            "Epoch 4/50\n",
            "455/455 [==============================] - 0s 431us/sample - loss: 0.4083 - accuracy: 0.8022 - val_loss: 0.5850 - val_accuracy: 0.8947\n",
            "Epoch 5/50\n",
            "455/455 [==============================] - 0s 421us/sample - loss: 0.4226 - accuracy: 0.8484 - val_loss: 0.5548 - val_accuracy: 0.9123\n",
            "Epoch 6/50\n",
            "455/455 [==============================] - 0s 404us/sample - loss: 0.3455 - accuracy: 0.8571 - val_loss: 0.5252 - val_accuracy: 0.9211\n",
            "Epoch 7/50\n",
            "455/455 [==============================] - 0s 456us/sample - loss: 0.3350 - accuracy: 0.8571 - val_loss: 0.4937 - val_accuracy: 0.9211\n",
            "Epoch 8/50\n",
            "455/455 [==============================] - 0s 364us/sample - loss: 0.3081 - accuracy: 0.8879 - val_loss: 0.4639 - val_accuracy: 0.9298\n",
            "Epoch 9/50\n",
            "455/455 [==============================] - 0s 337us/sample - loss: 0.2725 - accuracy: 0.8835 - val_loss: 0.4346 - val_accuracy: 0.9386\n",
            "Epoch 10/50\n",
            "455/455 [==============================] - 0s 358us/sample - loss: 0.3058 - accuracy: 0.8593 - val_loss: 0.4047 - val_accuracy: 0.9386\n",
            "Epoch 11/50\n",
            "455/455 [==============================] - 0s 383us/sample - loss: 0.2276 - accuracy: 0.8901 - val_loss: 0.3755 - val_accuracy: 0.9386\n",
            "Epoch 12/50\n",
            "455/455 [==============================] - 0s 339us/sample - loss: 0.2245 - accuracy: 0.9011 - val_loss: 0.3460 - val_accuracy: 0.9386\n",
            "Epoch 13/50\n",
            "455/455 [==============================] - 0s 349us/sample - loss: 0.1861 - accuracy: 0.9319 - val_loss: 0.3190 - val_accuracy: 0.9386\n",
            "Epoch 14/50\n",
            "455/455 [==============================] - 0s 333us/sample - loss: 0.2100 - accuracy: 0.9077 - val_loss: 0.2922 - val_accuracy: 0.9386\n",
            "Epoch 15/50\n",
            "455/455 [==============================] - 0s 371us/sample - loss: 0.1698 - accuracy: 0.9275 - val_loss: 0.2678 - val_accuracy: 0.9386\n",
            "Epoch 16/50\n",
            "455/455 [==============================] - 0s 342us/sample - loss: 0.2117 - accuracy: 0.9319 - val_loss: 0.2485 - val_accuracy: 0.9386\n",
            "Epoch 17/50\n",
            "455/455 [==============================] - 0s 335us/sample - loss: 0.2080 - accuracy: 0.9231 - val_loss: 0.2288 - val_accuracy: 0.9386\n",
            "Epoch 18/50\n",
            "455/455 [==============================] - 0s 340us/sample - loss: 0.1911 - accuracy: 0.9275 - val_loss: 0.2117 - val_accuracy: 0.9386\n",
            "Epoch 19/50\n",
            "455/455 [==============================] - 0s 360us/sample - loss: 0.1714 - accuracy: 0.9341 - val_loss: 0.1965 - val_accuracy: 0.9386\n",
            "Epoch 20/50\n",
            "455/455 [==============================] - 0s 378us/sample - loss: 0.1830 - accuracy: 0.9209 - val_loss: 0.1833 - val_accuracy: 0.9386\n",
            "Epoch 21/50\n",
            "455/455 [==============================] - 0s 365us/sample - loss: 0.1536 - accuracy: 0.9253 - val_loss: 0.1708 - val_accuracy: 0.9386\n",
            "Epoch 22/50\n",
            "455/455 [==============================] - 0s 369us/sample - loss: 0.1679 - accuracy: 0.9429 - val_loss: 0.1605 - val_accuracy: 0.9474\n",
            "Epoch 23/50\n",
            "455/455 [==============================] - 0s 404us/sample - loss: 0.1861 - accuracy: 0.9385 - val_loss: 0.1511 - val_accuracy: 0.9561\n",
            "Epoch 24/50\n",
            "455/455 [==============================] - 0s 373us/sample - loss: 0.1397 - accuracy: 0.9429 - val_loss: 0.1434 - val_accuracy: 0.9561\n",
            "Epoch 25/50\n",
            "455/455 [==============================] - 0s 374us/sample - loss: 0.1965 - accuracy: 0.9341 - val_loss: 0.1364 - val_accuracy: 0.9561\n",
            "Epoch 26/50\n",
            "455/455 [==============================] - 0s 385us/sample - loss: 0.1486 - accuracy: 0.9407 - val_loss: 0.1303 - val_accuracy: 0.9561\n",
            "Epoch 27/50\n",
            "455/455 [==============================] - 0s 419us/sample - loss: 0.1672 - accuracy: 0.9451 - val_loss: 0.1243 - val_accuracy: 0.9561\n",
            "Epoch 28/50\n",
            "455/455 [==============================] - 0s 422us/sample - loss: 0.1489 - accuracy: 0.9429 - val_loss: 0.1201 - val_accuracy: 0.9561\n",
            "Epoch 29/50\n",
            "455/455 [==============================] - 0s 405us/sample - loss: 0.1167 - accuracy: 0.9516 - val_loss: 0.1169 - val_accuracy: 0.9649\n",
            "Epoch 30/50\n",
            "455/455 [==============================] - 0s 388us/sample - loss: 0.1422 - accuracy: 0.9495 - val_loss: 0.1125 - val_accuracy: 0.9649\n",
            "Epoch 31/50\n",
            "455/455 [==============================] - 0s 376us/sample - loss: 0.1417 - accuracy: 0.9516 - val_loss: 0.1096 - val_accuracy: 0.9649\n",
            "Epoch 32/50\n",
            "455/455 [==============================] - 0s 380us/sample - loss: 0.1223 - accuracy: 0.9451 - val_loss: 0.1065 - val_accuracy: 0.9649\n",
            "Epoch 33/50\n",
            "455/455 [==============================] - 0s 371us/sample - loss: 0.1240 - accuracy: 0.9626 - val_loss: 0.1046 - val_accuracy: 0.9649\n",
            "Epoch 34/50\n",
            "455/455 [==============================] - 0s 385us/sample - loss: 0.1291 - accuracy: 0.9451 - val_loss: 0.1030 - val_accuracy: 0.9649\n",
            "Epoch 35/50\n",
            "455/455 [==============================] - 0s 403us/sample - loss: 0.1337 - accuracy: 0.9495 - val_loss: 0.1025 - val_accuracy: 0.9649\n",
            "Epoch 36/50\n",
            "455/455 [==============================] - 0s 394us/sample - loss: 0.1478 - accuracy: 0.9495 - val_loss: 0.1016 - val_accuracy: 0.9649\n",
            "Epoch 37/50\n",
            "455/455 [==============================] - 0s 381us/sample - loss: 0.1460 - accuracy: 0.9385 - val_loss: 0.1019 - val_accuracy: 0.9649\n",
            "Epoch 38/50\n",
            "455/455 [==============================] - 0s 393us/sample - loss: 0.1396 - accuracy: 0.9560 - val_loss: 0.1003 - val_accuracy: 0.9649\n",
            "Epoch 39/50\n",
            "455/455 [==============================] - 0s 422us/sample - loss: 0.1009 - accuracy: 0.9582 - val_loss: 0.0995 - val_accuracy: 0.9649\n",
            "Epoch 40/50\n",
            "455/455 [==============================] - 0s 383us/sample - loss: 0.1205 - accuracy: 0.9582 - val_loss: 0.0990 - val_accuracy: 0.9649\n",
            "Epoch 41/50\n",
            "455/455 [==============================] - 0s 402us/sample - loss: 0.1311 - accuracy: 0.9451 - val_loss: 0.0986 - val_accuracy: 0.9649\n",
            "Epoch 42/50\n",
            "455/455 [==============================] - 0s 392us/sample - loss: 0.1001 - accuracy: 0.9538 - val_loss: 0.0970 - val_accuracy: 0.9649\n",
            "Epoch 43/50\n",
            "455/455 [==============================] - 0s 384us/sample - loss: 0.1448 - accuracy: 0.9473 - val_loss: 0.0971 - val_accuracy: 0.9649\n",
            "Epoch 44/50\n",
            "455/455 [==============================] - 0s 391us/sample - loss: 0.0865 - accuracy: 0.9714 - val_loss: 0.0951 - val_accuracy: 0.9649\n",
            "Epoch 45/50\n",
            "455/455 [==============================] - 0s 367us/sample - loss: 0.1078 - accuracy: 0.9626 - val_loss: 0.0933 - val_accuracy: 0.9737\n",
            "Epoch 46/50\n",
            "455/455 [==============================] - 0s 378us/sample - loss: 0.1092 - accuracy: 0.9626 - val_loss: 0.0925 - val_accuracy: 0.9649\n",
            "Epoch 47/50\n",
            "455/455 [==============================] - 0s 406us/sample - loss: 0.0972 - accuracy: 0.9648 - val_loss: 0.0908 - val_accuracy: 0.9737\n",
            "Epoch 48/50\n",
            "455/455 [==============================] - 0s 397us/sample - loss: 0.1147 - accuracy: 0.9473 - val_loss: 0.0900 - val_accuracy: 0.9737\n",
            "Epoch 49/50\n",
            "455/455 [==============================] - 0s 392us/sample - loss: 0.1033 - accuracy: 0.9560 - val_loss: 0.0903 - val_accuracy: 0.9737\n",
            "Epoch 50/50\n",
            "455/455 [==============================] - 0s 375us/sample - loss: 0.0903 - accuracy: 0.9692 - val_loss: 0.0905 - val_accuracy: 0.9737\n"
          ],
          "name": "stdout"
        }
      ]
    },
    {
      "cell_type": "code",
      "metadata": {
        "id": "kqEAG8Co9cvQ",
        "colab_type": "code",
        "colab": {}
      },
      "source": [
        "def plot_learningCurve(history, epoch):\n",
        "  # Plot training & validation accuracy values\n",
        "  epoch_range = range(1, epoch+1)\n",
        "  plt.plot(epoch_range, history.history['accuracy'])\n",
        "  plt.plot(epoch_range, history.history['val_accuracy'])\n",
        "  plt.title('Model accuracy')\n",
        "  plt.ylabel('Accuracy')\n",
        "  plt.xlabel('Epoch')\n",
        "  plt.legend(['Train', 'Val'], loc='upper left')\n",
        "  plt.show()\n",
        "\n",
        "  # Plot training & validation loss values\n",
        "  plt.plot(epoch_range, history.history['loss'])\n",
        "  plt.plot(epoch_range, history.history['val_loss'])\n",
        "  plt.title('Model loss')\n",
        "  plt.ylabel('Loss')\n",
        "  plt.xlabel('Epoch')\n",
        "  plt.legend(['Train', 'Val'], loc='upper left')\n",
        "  plt.show()"
      ],
      "execution_count": 0,
      "outputs": []
    },
    {
      "cell_type": "code",
      "metadata": {
        "id": "YYe6PJaj9cxT",
        "colab_type": "code",
        "colab": {
          "base_uri": "https://localhost:8080/",
          "height": 1000
        },
        "outputId": "806fd3ae-c503-4169-b5fe-1f4f404bd0ef"
      },
      "source": [
        "history.history"
      ],
      "execution_count": 22,
      "outputs": [
        {
          "output_type": "execute_result",
          "data": {
            "text/plain": [
              "{'accuracy': [0.5538462,\n",
              "  0.7076923,\n",
              "  0.75164837,\n",
              "  0.8021978,\n",
              "  0.84835166,\n",
              "  0.85714287,\n",
              "  0.85714287,\n",
              "  0.8879121,\n",
              "  0.8835165,\n",
              "  0.85934067,\n",
              "  0.8901099,\n",
              "  0.9010989,\n",
              "  0.93186814,\n",
              "  0.9076923,\n",
              "  0.92747253,\n",
              "  0.93186814,\n",
              "  0.9230769,\n",
              "  0.92747253,\n",
              "  0.93406594,\n",
              "  0.9208791,\n",
              "  0.9252747,\n",
              "  0.94285715,\n",
              "  0.93846154,\n",
              "  0.94285715,\n",
              "  0.93406594,\n",
              "  0.94065934,\n",
              "  0.94505495,\n",
              "  0.94285715,\n",
              "  0.95164835,\n",
              "  0.94945055,\n",
              "  0.95164835,\n",
              "  0.94505495,\n",
              "  0.96263736,\n",
              "  0.94505495,\n",
              "  0.94945055,\n",
              "  0.94945055,\n",
              "  0.93846154,\n",
              "  0.95604396,\n",
              "  0.95824176,\n",
              "  0.95824176,\n",
              "  0.94505495,\n",
              "  0.95384616,\n",
              "  0.94725275,\n",
              "  0.9714286,\n",
              "  0.96263736,\n",
              "  0.96263736,\n",
              "  0.96483517,\n",
              "  0.94725275,\n",
              "  0.95604396,\n",
              "  0.9692308],\n",
              " 'loss': [1.1022081893878979,\n",
              "  0.6965828046693907,\n",
              "  0.5921835186062279,\n",
              "  0.4082912266581923,\n",
              "  0.4225574799946376,\n",
              "  0.34554234733293343,\n",
              "  0.3350165249227168,\n",
              "  0.3081469214388302,\n",
              "  0.2725060095826348,\n",
              "  0.3058299368554419,\n",
              "  0.22761130568745372,\n",
              "  0.22447851195440188,\n",
              "  0.18611598565028264,\n",
              "  0.2099744363309263,\n",
              "  0.16981859777409297,\n",
              "  0.21171412009459276,\n",
              "  0.20798467364940015,\n",
              "  0.19108372021179934,\n",
              "  0.17135474305231493,\n",
              "  0.18298275703257258,\n",
              "  0.15358018658973357,\n",
              "  0.1678921420700275,\n",
              "  0.18608294268558315,\n",
              "  0.13965890739972775,\n",
              "  0.19647010130869164,\n",
              "  0.14857950522103808,\n",
              "  0.16716342208149668,\n",
              "  0.14885929213775384,\n",
              "  0.11671466940379405,\n",
              "  0.14216825187533766,\n",
              "  0.14168639084795018,\n",
              "  0.12228525691143759,\n",
              "  0.12398697353981353,\n",
              "  0.129129382951574,\n",
              "  0.13367265865953823,\n",
              "  0.1478316320167793,\n",
              "  0.14597236268058583,\n",
              "  0.13959816573085365,\n",
              "  0.10092689006046934,\n",
              "  0.12050810076378204,\n",
              "  0.13114084152729957,\n",
              "  0.10005141536776836,\n",
              "  0.14482082528072399,\n",
              "  0.08646192057160558,\n",
              "  0.10775786459773451,\n",
              "  0.10917319563718943,\n",
              "  0.09716912098228932,\n",
              "  0.11467264474748255,\n",
              "  0.10333875258054052,\n",
              "  0.09028532380586142],\n",
              " 'val_accuracy': [0.7368421,\n",
              "  0.80701756,\n",
              "  0.88596493,\n",
              "  0.8947368,\n",
              "  0.9122807,\n",
              "  0.92105263,\n",
              "  0.92105263,\n",
              "  0.9298246,\n",
              "  0.9385965,\n",
              "  0.9385965,\n",
              "  0.9385965,\n",
              "  0.9385965,\n",
              "  0.9385965,\n",
              "  0.9385965,\n",
              "  0.9385965,\n",
              "  0.9385965,\n",
              "  0.9385965,\n",
              "  0.9385965,\n",
              "  0.9385965,\n",
              "  0.9385965,\n",
              "  0.9385965,\n",
              "  0.94736844,\n",
              "  0.95614034,\n",
              "  0.95614034,\n",
              "  0.95614034,\n",
              "  0.95614034,\n",
              "  0.95614034,\n",
              "  0.95614034,\n",
              "  0.9649123,\n",
              "  0.9649123,\n",
              "  0.9649123,\n",
              "  0.9649123,\n",
              "  0.9649123,\n",
              "  0.9649123,\n",
              "  0.9649123,\n",
              "  0.9649123,\n",
              "  0.9649123,\n",
              "  0.9649123,\n",
              "  0.9649123,\n",
              "  0.9649123,\n",
              "  0.9649123,\n",
              "  0.9649123,\n",
              "  0.9649123,\n",
              "  0.9649123,\n",
              "  0.9736842,\n",
              "  0.9649123,\n",
              "  0.9736842,\n",
              "  0.9736842,\n",
              "  0.9736842,\n",
              "  0.9736842],\n",
              " 'val_loss': [0.6651524817734434,\n",
              "  0.6403697770938539,\n",
              "  0.6129727248559919,\n",
              "  0.5850326126081902,\n",
              "  0.5547795212059691,\n",
              "  0.5251732029412922,\n",
              "  0.49365358394488956,\n",
              "  0.46390893950796963,\n",
              "  0.43457202012078805,\n",
              "  0.40473850097572595,\n",
              "  0.37547519907616733,\n",
              "  0.34598732517476666,\n",
              "  0.31895398466210617,\n",
              "  0.2922360897064209,\n",
              "  0.2678343967387551,\n",
              "  0.24850417464448696,\n",
              "  0.22880839987805016,\n",
              "  0.2116830024802894,\n",
              "  0.19650280710897947,\n",
              "  0.18330928447999453,\n",
              "  0.1707843136891984,\n",
              "  0.160511805300127,\n",
              "  0.1511245490166179,\n",
              "  0.14340607691229434,\n",
              "  0.13643196002956023,\n",
              "  0.13028828198449655,\n",
              "  0.12427572370098348,\n",
              "  0.12006289832163275,\n",
              "  0.11686409022985843,\n",
              "  0.11248552348268659,\n",
              "  0.10959549653425552,\n",
              "  0.10650296816438959,\n",
              "  0.10463188454639494,\n",
              "  0.10301626300471917,\n",
              "  0.10248307122342419,\n",
              "  0.10158180566341207,\n",
              "  0.10187899840897635,\n",
              "  0.1002695274196173,\n",
              "  0.09953062536946514,\n",
              "  0.0989784381368704,\n",
              "  0.09864301878240025,\n",
              "  0.09698827460146787,\n",
              "  0.09709798263614638,\n",
              "  0.09514708318665885,\n",
              "  0.09326869175818406,\n",
              "  0.09252554679844986,\n",
              "  0.09081579391893588,\n",
              "  0.0899588434483137,\n",
              "  0.09028765098436882,\n",
              "  0.09051590728197705]}"
            ]
          },
          "metadata": {
            "tags": []
          },
          "execution_count": 22
        }
      ]
    },
    {
      "cell_type": "code",
      "metadata": {
        "id": "UenyhtMz9c5Q",
        "colab_type": "code",
        "colab": {
          "base_uri": "https://localhost:8080/",
          "height": 573
        },
        "outputId": "18fec098-516b-4668-acac-8c4dc3fb1bf4"
      },
      "source": [
        "plot_learningCurve(history, epochs)"
      ],
      "execution_count": 23,
      "outputs": [
        {
          "output_type": "display_data",
          "data": {
            "image/png": "[encoded data removed]",
            "text/plain": [
              "<Figure size 432x288 with 1 Axes>"
            ]
          },
          "metadata": {
            "tags": []
          }
        },
        {
          "output_type": "display_data",
          "data": {
            "image/png": "[encoded data removed]",
            "text/plain": [
              "<Figure size 432x288 with 1 Axes>"
            ]
          },
          "metadata": {
            "tags": []
          }
        }
      ]
    },
    {
      "cell_type": "code",
      "metadata": {
        "id": "q3Keps_zBGvi",
        "colab_type": "code",
        "colab": {}
      },
      "source": [
        ""
      ],
      "execution_count": 0,
      "outputs": []
    },
    {
      "cell_type": "code",
      "metadata": {
        "id": "D_7EIDFQBGyf",
        "colab_type": "code",
        "colab": {}
      },
      "source": [
        ""
      ],
      "execution_count": 0,
      "outputs": []
    },
    {
      "cell_type": "code",
      "metadata": {
        "id": "OyXPfHASBG0z",
        "colab_type": "code",
        "colab": {}
      },
      "source": [
        ""
      ],
      "execution_count": 0,
      "outputs": []
    },
    {
      "cell_type": "code",
      "metadata": {
        "id": "ZNEvJruABG3g",
        "colab_type": "code",
        "colab": {}
      },
      "source": [
        ""
      ],
      "execution_count": 0,
      "outputs": []
    },
    {
      "cell_type": "code",
      "metadata": {
        "id": "-iL2nVZUBG52",
        "colab_type": "code",
        "colab": {}
      },
      "source": [
        ""
      ],
      "execution_count": 0,
      "outputs": []
    },
    {
      "cell_type": "code",
      "metadata": {
        "id": "4A5Skf2ABG76",
        "colab_type": "code",
        "colab": {}
      },
      "source": [
        ""
      ],
      "execution_count": 0,
      "outputs": []
    },
    {
      "cell_type": "code",
      "metadata": {
        "id": "Nv6oDAVNBG-D",
        "colab_type": "code",
        "colab": {}
      },
      "source": [
        ""
      ],
      "execution_count": 0,
      "outputs": []
    },
    {
      "cell_type": "code",
      "metadata": {
        "id": "GBML1vvv9c79",
        "colab_type": "code",
        "colab": {}
      },
      "source": [
        ""
      ],
      "execution_count": 0,
      "outputs": []
    }
  ]
}